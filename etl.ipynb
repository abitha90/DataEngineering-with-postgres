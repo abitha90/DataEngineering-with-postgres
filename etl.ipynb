{
 "cells": [
  {
   "cell_type": "markdown",
   "metadata": {
    "editable": true
   },
   "source": [
    "# ETL Processes\n",
    "Use this notebook to develop the ETL process for each of your tables before completing the `etl.py` file to load the whole datasets."
   ]
  },
  {
   "cell_type": "code",
   "execution_count": 2,
   "metadata": {
    "editable": true
   },
   "outputs": [],
   "source": [
    "import os\n",
    "import glob\n",
    "import psycopg2\n",
    "import pandas as pd\n",
    "import json\n",
    "from sql_queries import *"
   ]
  },
  {
   "cell_type": "code",
   "execution_count": 3,
   "metadata": {
    "editable": true
   },
   "outputs": [],
   "source": [
    "conn = psycopg2.connect(\"host=127.0.0.1 dbname=sparkifydb user=student password=student\")\n",
    "cur = conn.cursor()"
   ]
  },
  {
   "cell_type": "code",
   "execution_count": 4,
   "metadata": {
    "editable": true
   },
   "outputs": [],
   "source": [
    "def get_files(filepath):\n",
    "    all_files = []\n",
    "    for root, dirs, files in os.walk(filepath):\n",
    "        files = glob.glob(os.path.join(root,'*.json'))\n",
    "        for f in files :\n",
    "            all_files.append(os.path.abspath(f))\n",
    "    \n",
    "    return all_files"
   ]
  },
  {
   "cell_type": "markdown",
   "metadata": {
    "editable": true
   },
   "source": [
    "# Process `song_data`\n",
    "In this first part, you'll perform ETL on the first dataset, `song_data`, to create the `songs` and `artists` dimensional tables.\n",
    "\n",
    "Let's perform ETL on a single song file and load a single record into each table to start.\n",
    "- Use the `get_files` function provided above to get a list of all song JSON files in `data/song_data`\n",
    "- Select the first song in this list\n",
    "- Read the song file and view the data"
   ]
  },
  {
   "cell_type": "code",
   "execution_count": 5,
   "metadata": {
    "editable": true
   },
   "outputs": [],
   "source": [
    "filepath = '/home/workspace/data/song_data/'\n"
   ]
  },
  {
   "cell_type": "code",
   "execution_count": 6,
   "metadata": {
    "editable": true
   },
   "outputs": [],
   "source": [
    "song_files = get_files(filepath)\n",
    "\n",
    "\n",
    "\n"
   ]
  },
  {
   "cell_type": "code",
   "execution_count": 7,
   "metadata": {
    "editable": true
   },
   "outputs": [
    {
     "name": "stdout",
     "output_type": "stream",
     "text": [
      "single_file /home/workspace/data/song_data/A/A/A/TRAAAAW128F429D538.json\n",
      "single_file /home/workspace/data/song_data/A/A/A/TRAAAVG12903CFA543.json\n",
      "single_file /home/workspace/data/song_data/A/A/A/TRAAARJ128F9320760.json\n",
      "single_file /home/workspace/data/song_data/A/A/A/TRAAAPK128E0786D96.json\n",
      "single_file /home/workspace/data/song_data/A/A/A/TRAAABD128F429CF47.json\n",
      "single_file /home/workspace/data/song_data/A/A/A/TRAAAMO128F1481E7F.json\n",
      "single_file /home/workspace/data/song_data/A/A/A/TRAAAMQ128F1460CD3.json\n",
      "single_file /home/workspace/data/song_data/A/A/A/TRAAAVO128F93133D4.json\n",
      "single_file /home/workspace/data/song_data/A/A/A/TRAAAEF128F4273421.json\n",
      "single_file /home/workspace/data/song_data/A/A/A/TRAAAFD128F92F423A.json\n",
      "single_file /home/workspace/data/song_data/A/A/A/TRAAADZ128F9348C2E.json\n",
      "single_file /home/workspace/data/song_data/A/A/A/.ipynb_checkpoints/TRAAABD128F429CF47-checkpoint.json\n",
      "single_file /home/workspace/data/song_data/A/A/A/.ipynb_checkpoints/TRAAAAW128F429D538-checkpoint.json\n",
      "single_file /home/workspace/data/song_data/A/A/A/.ipynb_checkpoints/TRAAADZ128F9348C2E-checkpoint.json\n",
      "single_file /home/workspace/data/song_data/A/A/B/TRAABNV128F425CEE1.json\n",
      "single_file /home/workspace/data/song_data/A/A/B/TRAABRB128F9306DD5.json\n",
      "single_file /home/workspace/data/song_data/A/A/B/TRAABLR128F423B7E3.json\n",
      "single_file /home/workspace/data/song_data/A/A/B/TRAABDL12903CAABBA.json\n",
      "single_file /home/workspace/data/song_data/A/A/B/TRAABJL12903CDCF1A.json\n",
      "single_file /home/workspace/data/song_data/A/A/B/TRAABVM128F92CA9DC.json\n",
      "single_file /home/workspace/data/song_data/A/A/B/TRAABYN12903CFD305.json\n",
      "single_file /home/workspace/data/song_data/A/A/B/TRAABXG128F9318EBD.json\n",
      "single_file /home/workspace/data/song_data/A/A/B/TRAABCL128F4286650.json\n",
      "single_file /home/workspace/data/song_data/A/A/B/TRAABYW128F4244559.json\n",
      "single_file /home/workspace/data/song_data/A/A/B/TRAABJV128F1460C49.json\n",
      "single_file /home/workspace/data/song_data/A/A/C/TRAACVS128E078BE39.json\n",
      "single_file /home/workspace/data/song_data/A/A/C/TRAACPE128F421C1B9.json\n",
      "single_file /home/workspace/data/song_data/A/A/C/TRAACLV128F427E123.json\n",
      "single_file /home/workspace/data/song_data/A/A/C/TRAACER128F4290F96.json\n",
      "single_file /home/workspace/data/song_data/A/A/C/TRAACTB12903CAAF15.json\n",
      "single_file /home/workspace/data/song_data/A/A/C/TRAACFV128F935E50B.json\n",
      "single_file /home/workspace/data/song_data/A/A/C/TRAACIW12903CC0F6D.json\n",
      "single_file /home/workspace/data/song_data/A/A/C/TRAACOW128F933E35F.json\n",
      "single_file /home/workspace/data/song_data/A/A/C/TRAACHN128F1489601.json\n",
      "single_file /home/workspace/data/song_data/A/A/C/TRAACCG128F92E8A55.json\n",
      "single_file /home/workspace/data/song_data/A/A/C/TRAACQT128F9331780.json\n",
      "single_file /home/workspace/data/song_data/A/A/C/TRAACNS128F14A2DF5.json\n",
      "single_file /home/workspace/data/song_data/A/A/C/TRAACSL128F93462F4.json\n",
      "single_file /home/workspace/data/song_data/A/A/C/TRAACZK128F4243829.json\n",
      "single_file /home/workspace/data/song_data/A/B/A/TRABAIO128F42938F9.json\n",
      "single_file /home/workspace/data/song_data/A/B/A/TRABAWW128F4250A31.json\n",
      "single_file /home/workspace/data/song_data/A/B/A/TRABAZH128F930419A.json\n",
      "single_file /home/workspace/data/song_data/A/B/A/TRABAVQ12903CBF7E0.json\n",
      "single_file /home/workspace/data/song_data/A/B/A/TRABAXR128F426515F.json\n",
      "single_file /home/workspace/data/song_data/A/B/A/TRABAXL128F424FC50.json\n",
      "single_file /home/workspace/data/song_data/A/B/A/TRABAFJ128F42AF24E.json\n",
      "single_file /home/workspace/data/song_data/A/B/A/TRABAXV128F92F6AE3.json\n",
      "single_file /home/workspace/data/song_data/A/B/A/TRABACN128F425B784.json\n",
      "single_file /home/workspace/data/song_data/A/B/A/TRABATO128F42627E9.json\n",
      "single_file /home/workspace/data/song_data/A/B/A/TRABAFP128F931E9A1.json\n",
      "single_file /home/workspace/data/song_data/A/B/B/TRABBVJ128F92F7EAA.json\n",
      "single_file /home/workspace/data/song_data/A/B/B/TRABBXU128F92FEF48.json\n",
      "single_file /home/workspace/data/song_data/A/B/B/TRABBAM128F429D223.json\n",
      "single_file /home/workspace/data/song_data/A/B/B/TRABBZN12903CD9297.json\n",
      "single_file /home/workspace/data/song_data/A/B/B/TRABBNP128F932546F.json\n",
      "single_file /home/workspace/data/song_data/A/B/B/TRABBOR128F4286200.json\n",
      "single_file /home/workspace/data/song_data/A/B/B/TRABBOP128F931B50D.json\n",
      "single_file /home/workspace/data/song_data/A/B/B/TRABBLU128F93349CF.json\n",
      "single_file /home/workspace/data/song_data/A/B/B/TRABBBV128F42967D7.json\n",
      "single_file /home/workspace/data/song_data/A/B/B/TRABBJE12903CDB442.json\n",
      "single_file /home/workspace/data/song_data/A/B/B/TRABBKX128F4285205.json\n",
      "single_file /home/workspace/data/song_data/A/B/B/TRABBTA128F933D304.json\n",
      "single_file /home/workspace/data/song_data/A/B/C/TRABCEI128F424C983.json\n",
      "single_file /home/workspace/data/song_data/A/B/C/TRABCUQ128E0783E2B.json\n",
      "single_file /home/workspace/data/song_data/A/B/C/TRABCTK128F934B224.json\n",
      "single_file /home/workspace/data/song_data/A/B/C/TRABCIX128F4265903.json\n",
      "single_file /home/workspace/data/song_data/A/B/C/TRABCEC128F426456E.json\n",
      "single_file /home/workspace/data/song_data/A/B/C/TRABCPZ128F4275C32.json\n",
      "single_file /home/workspace/data/song_data/A/B/C/TRABCXB128F4286BD3.json\n",
      "single_file /home/workspace/data/song_data/A/B/C/TRABCAJ12903CDFCC2.json\n",
      "single_file /home/workspace/data/song_data/A/B/C/TRABCFL128F149BB0D.json\n",
      "single_file /home/workspace/data/song_data/A/B/C/TRABCKL128F423A778.json\n",
      "single_file /home/workspace/data/song_data/A/B/C/TRABCRU128F423F449.json\n",
      "single_file /home/workspace/data/song_data/A/B/C/TRABCYE128F934CE1D.json\n"
     ]
    }
   ],
   "source": [
    "for single_file in song_files:\n",
    "    with open(single_file) as single_song_data:\n",
    "        print(\"single_file\",single_file)\n",
    "       "
   ]
  },
  {
   "cell_type": "code",
   "execution_count": 8,
   "metadata": {
    "editable": true
   },
   "outputs": [
    {
     "name": "stdout",
     "output_type": "stream",
     "text": [
      "<bound method NDFrame.head of num_songs                            1\n",
      "artist_id           AREVWGE1187B9B890A\n",
      "artist_latitude                -13.442\n",
      "artist_longitude              -41.9952\n",
      "artist_location              Noci (BA)\n",
      "artist_name                 Bitter End\n",
      "song_id             SOFCHDR12AB01866EF\n",
      "title                      Living Hell\n",
      "duration                       282.435\n",
      "year                                 0\n",
      "dtype: object>\n"
     ]
    }
   ],
   "source": [
    "df = pd.read_json(single_file,typ='series')\n",
    "print(df.head)\n"
   ]
  },
  {
   "cell_type": "markdown",
   "metadata": {
    "editable": true
   },
   "source": [
    "## #1: `songs` Table\n",
    "#### Extract Data for Songs Table\n",
    "- Select columns for song ID, title, artist ID, year, and duration\n",
    "- Use `df.values` to select just the values from the dataframe\n",
    "- Index to select the first (only) record in the dataframe\n",
    "- Convert the array to a list and set it to `song_data`"
   ]
  },
  {
   "cell_type": "code",
   "execution_count": 8,
   "metadata": {
    "editable": true
   },
   "outputs": [
    {
     "name": "stdout",
     "output_type": "stream",
     "text": [
      "song_id      SOFCHDR12AB01866EF\n",
      "title               Living Hell\n",
      "artist_id    AREVWGE1187B9B890A\n",
      "year                          0\n",
      "duration                282.435\n",
      "dtype: object\n"
     ]
    }
   ],
   "source": [
    "song_data = df[[\"song_id\",\"title\",\"artist_id\",\"year\",\"duration\"]]\n",
    "print(song_data)"
   ]
  },
  {
   "cell_type": "markdown",
   "metadata": {
    "editable": true
   },
   "source": [
    "#### Insert Record into Song Table\n",
    "Implement the `song_table_insert` query in `sql_queries.py` and run the cell below to insert a record for this song into the `songs` table. Remember to run `create_tables.py` before running the cell below to ensure you've created/resetted the `songs` table in the sparkify database."
   ]
  },
  {
   "cell_type": "code",
   "execution_count": 9,
   "metadata": {
    "editable": true
   },
   "outputs": [],
   "source": [
    "cur.execute(song_table_insert, song_data)\n",
    "conn.commit()"
   ]
  },
  {
   "cell_type": "markdown",
   "metadata": {
    "editable": true
   },
   "source": [
    "Run `test.ipynb` to see if you've successfully added a record to this table."
   ]
  },
  {
   "cell_type": "markdown",
   "metadata": {
    "editable": true
   },
   "source": [
    "## #2: `artists` Table\n",
    "#### Extract Data for Artists Table\n",
    "- Select columns for artist ID, name, location, latitude, and longitude\n",
    "- Use `df.values` to select just the values from the dataframe\n",
    "- Index to select the first (only) record in the dataframe\n",
    "- Convert the array to a list and set it to `artist_data`"
   ]
  },
  {
   "cell_type": "code",
   "execution_count": 9,
   "metadata": {
    "editable": true
   },
   "outputs": [
    {
     "name": "stdout",
     "output_type": "stream",
     "text": [
      "artist_id      AREVWGE1187B9B890A\n",
      "artist_name            Bitter End\n",
      "location                      NaN\n",
      "lattitude                     NaN\n",
      "longitude                     NaN\n",
      "dtype: object\n"
     ]
    },
    {
     "name": "stderr",
     "output_type": "stream",
     "text": [
      "/opt/conda/lib/python3.6/site-packages/pandas/core/series.py:851: FutureWarning: \n",
      "Passing list-likes to .loc or [] with any missing label will raise\n",
      "KeyError in the future, you can use .reindex() as an alternative.\n",
      "\n",
      "See the documentation here:\n",
      "https://pandas.pydata.org/pandas-docs/stable/indexing.html#deprecate-loc-reindex-listlike\n",
      "  return self.loc[key]\n"
     ]
    }
   ],
   "source": [
    "artist_data = df[['artist_id','artist_name','artist_location','artist_latitude','artist_longitude']]\n",
    "print(artist_data)"
   ]
  },
  {
   "cell_type": "markdown",
   "metadata": {
    "editable": true
   },
   "source": [
    "#### Insert Record into Artist Table\n",
    "Implement the `artist_table_insert` query in `sql_queries.py` and run the cell below to insert a record for this song's artist into the `artists` table. Remember to run `create_tables.py` before running the cell below to ensure you've created/resetted the `artists` table in the sparkify database."
   ]
  },
  {
   "cell_type": "code",
   "execution_count": 11,
   "metadata": {
    "editable": true
   },
   "outputs": [],
   "source": [
    "cur.execute(artist_table_insert, artist_data)\n",
    "conn.commit()"
   ]
  },
  {
   "cell_type": "markdown",
   "metadata": {
    "editable": true
   },
   "source": [
    "Run `test.ipynb` to see if you've successfully added a record to this table."
   ]
  },
  {
   "cell_type": "markdown",
   "metadata": {
    "editable": true
   },
   "source": [
    "# Process `log_data`\n",
    "In this part, you'll perform ETL on the second dataset, `log_data`, to create the `time` and `users` dimensional tables, as well as the `songplays` fact table.\n",
    "\n",
    "Let's perform ETL on a single log file and load a single record into each table.\n",
    "- Use the `get_files` function provided above to get a list of all log JSON files in `data/log_data`\n",
    "- Select the first log file in this list\n",
    "- Read the log file and view the data"
   ]
  },
  {
   "cell_type": "code",
   "execution_count": 28,
   "metadata": {
    "editable": true
   },
   "outputs": [],
   "source": [
    "filepath = '/home/workspace/data/log_data/'\n"
   ]
  },
  {
   "cell_type": "code",
   "execution_count": 29,
   "metadata": {
    "editable": true
   },
   "outputs": [
    {
     "name": "stdout",
     "output_type": "stream",
     "text": [
      "['/home/workspace/data/log_data/2018/11/2018-11-30-events.json', '/home/workspace/data/log_data/2018/11/2018-11-11-events.json', '/home/workspace/data/log_data/2018/11/2018-11-23-events.json', '/home/workspace/data/log_data/2018/11/2018-11-24-events.json', '/home/workspace/data/log_data/2018/11/2018-11-25-events.json', '/home/workspace/data/log_data/2018/11/2018-11-20-events.json', '/home/workspace/data/log_data/2018/11/2018-11-15-events.json', '/home/workspace/data/log_data/2018/11/2018-11-01-events.json', '/home/workspace/data/log_data/2018/11/2018-11-03-events.json', '/home/workspace/data/log_data/2018/11/2018-11-13-events.json', '/home/workspace/data/log_data/2018/11/2018-11-10-events.json', '/home/workspace/data/log_data/2018/11/2018-11-28-events.json', '/home/workspace/data/log_data/2018/11/2018-11-26-events.json', '/home/workspace/data/log_data/2018/11/2018-11-04-events.json', '/home/workspace/data/log_data/2018/11/2018-11-14-events.json', '/home/workspace/data/log_data/2018/11/2018-11-27-events.json', '/home/workspace/data/log_data/2018/11/2018-11-21-events.json', '/home/workspace/data/log_data/2018/11/2018-11-06-events.json', '/home/workspace/data/log_data/2018/11/2018-11-22-events.json', '/home/workspace/data/log_data/2018/11/2018-11-12-events.json', '/home/workspace/data/log_data/2018/11/2018-11-05-events.json', '/home/workspace/data/log_data/2018/11/2018-11-09-events.json', '/home/workspace/data/log_data/2018/11/2018-11-08-events.json', '/home/workspace/data/log_data/2018/11/2018-11-02-events.json', '/home/workspace/data/log_data/2018/11/2018-11-18-events.json', '/home/workspace/data/log_data/2018/11/2018-11-07-events.json', '/home/workspace/data/log_data/2018/11/2018-11-16-events.json', '/home/workspace/data/log_data/2018/11/2018-11-29-events.json', '/home/workspace/data/log_data/2018/11/2018-11-19-events.json', '/home/workspace/data/log_data/2018/11/2018-11-17-events.json']\n"
     ]
    }
   ],
   "source": [
    "log_files = get_files(filepath)\n",
    "print(log_files)"
   ]
  },
  {
   "cell_type": "code",
   "execution_count": 30,
   "metadata": {
    "editable": true
   },
   "outputs": [
    {
     "name": "stdout",
     "output_type": "stream",
     "text": [
      "single_logfile /home/workspace/data/log_data/2018/11/2018-11-30-events.json\n",
      "single_logfile /home/workspace/data/log_data/2018/11/2018-11-11-events.json\n",
      "single_logfile /home/workspace/data/log_data/2018/11/2018-11-23-events.json\n",
      "single_logfile /home/workspace/data/log_data/2018/11/2018-11-24-events.json\n",
      "single_logfile /home/workspace/data/log_data/2018/11/2018-11-25-events.json\n",
      "single_logfile /home/workspace/data/log_data/2018/11/2018-11-20-events.json\n",
      "single_logfile /home/workspace/data/log_data/2018/11/2018-11-15-events.json\n",
      "single_logfile /home/workspace/data/log_data/2018/11/2018-11-01-events.json\n",
      "single_logfile /home/workspace/data/log_data/2018/11/2018-11-03-events.json\n",
      "single_logfile /home/workspace/data/log_data/2018/11/2018-11-13-events.json\n",
      "single_logfile /home/workspace/data/log_data/2018/11/2018-11-10-events.json\n",
      "single_logfile /home/workspace/data/log_data/2018/11/2018-11-28-events.json\n",
      "single_logfile /home/workspace/data/log_data/2018/11/2018-11-26-events.json\n",
      "single_logfile /home/workspace/data/log_data/2018/11/2018-11-04-events.json\n",
      "single_logfile /home/workspace/data/log_data/2018/11/2018-11-14-events.json\n",
      "single_logfile /home/workspace/data/log_data/2018/11/2018-11-27-events.json\n",
      "single_logfile /home/workspace/data/log_data/2018/11/2018-11-21-events.json\n",
      "single_logfile /home/workspace/data/log_data/2018/11/2018-11-06-events.json\n",
      "single_logfile /home/workspace/data/log_data/2018/11/2018-11-22-events.json\n",
      "single_logfile /home/workspace/data/log_data/2018/11/2018-11-12-events.json\n",
      "single_logfile /home/workspace/data/log_data/2018/11/2018-11-05-events.json\n",
      "single_logfile /home/workspace/data/log_data/2018/11/2018-11-09-events.json\n",
      "single_logfile /home/workspace/data/log_data/2018/11/2018-11-08-events.json\n",
      "single_logfile /home/workspace/data/log_data/2018/11/2018-11-02-events.json\n",
      "single_logfile /home/workspace/data/log_data/2018/11/2018-11-18-events.json\n",
      "single_logfile /home/workspace/data/log_data/2018/11/2018-11-07-events.json\n",
      "single_logfile /home/workspace/data/log_data/2018/11/2018-11-16-events.json\n",
      "single_logfile /home/workspace/data/log_data/2018/11/2018-11-29-events.json\n",
      "single_logfile /home/workspace/data/log_data/2018/11/2018-11-19-events.json\n",
      "single_logfile /home/workspace/data/log_data/2018/11/2018-11-17-events.json\n"
     ]
    }
   ],
   "source": [
    "for single_logfile in log_files:\n",
    "    with open(single_logfile) as log_data:\n",
    "        print(\"single_logfile\",single_logfile)"
   ]
  },
  {
   "cell_type": "code",
   "execution_count": 31,
   "metadata": {
    "editable": true
   },
   "outputs": [
    {
     "name": "stdout",
     "output_type": "stream",
     "text": [
      "artist                                              Randy Crawford\n",
      "auth                                                     Logged In\n",
      "firstName                                                    Chloe\n",
      "gender                                                           F\n",
      "itemInSession                                                   54\n",
      "lastName                                                    Cuevas\n",
      "length                                                     251.402\n",
      "level                                                         paid\n",
      "location                         San Francisco-Oakland-Hayward, CA\n",
      "method                                                         PUT\n",
      "page                                                      NextSong\n",
      "registration                                           1.54094e+12\n",
      "sessionId                                                      648\n",
      "song                           Rio De Janeiro Blue (Album Version)\n",
      "status                                                         200\n",
      "ts                                      2018-11-17 00:06:40.796000\n",
      "userAgent        Mozilla/5.0 (Windows NT 5.1; rv:31.0) Gecko/20...\n",
      "userId                                                          49\n",
      "Name: 1, dtype: object\n"
     ]
    }
   ],
   "source": [
    "df = pd.read_json(single_logfile,lines=True)\n",
    "df.head()\n",
    "df['ts'] = pd.to_datetime(df['ts'], unit='ms')\n",
    "print(df.loc[1])"
   ]
  },
  {
   "cell_type": "markdown",
   "metadata": {
    "editable": true
   },
   "source": [
    "## #3: `time` Table\n",
    "#### Extract Data for Time Table\n",
    "- Filter records by `NextSong` action\n",
    "- Convert the `ts` timestamp column to datetime\n",
    "  - Hint: the current timestamp is in milliseconds\n",
    "- Extract the timestamp, hour, day, week of year, month, year, and weekday from the `ts` column and set `time_data` to a list containing these values in order\n",
    "  - Hint: use pandas' [`dt` attribute](https://pandas.pydata.org/pandas-docs/stable/reference/api/pandas.Series.dt.html) to access easily datetimelike properties.\n",
    "- Specify labels for these columns and set to `column_labels`\n",
    "- Create a dataframe, `time_df,` containing the time data for this file by combining `column_labels` and `time_data` into a dictionary and converting this into a dataframe"
   ]
  },
  {
   "cell_type": "code",
   "execution_count": 32,
   "metadata": {
    "editable": true
   },
   "outputs": [
    {
     "name": "stdout",
     "output_type": "stream",
     "text": [
      "artist                                              Randy Crawford\n",
      "auth                                                     Logged In\n",
      "firstName                                                    Chloe\n",
      "gender                                                           F\n",
      "itemInSession                                                   54\n",
      "lastName                                                    Cuevas\n",
      "length                                                     251.402\n",
      "level                                                         paid\n",
      "location                         San Francisco-Oakland-Hayward, CA\n",
      "method                                                         PUT\n",
      "page                                                      NextSong\n",
      "registration                                           1.54094e+12\n",
      "sessionId                                                      648\n",
      "song                           Rio De Janeiro Blue (Album Version)\n",
      "status                                                         200\n",
      "ts                                      2018-11-17 00:06:40.796000\n",
      "userAgent        Mozilla/5.0 (Windows NT 5.1; rv:31.0) Gecko/20...\n",
      "userId                                                          49\n",
      "Name: 1, dtype: object\n"
     ]
    }
   ],
   "source": [
    "df_filtered_records = df[(df.page==\"NextSong\")]\n",
    "print(df_filtered_records.loc[1])\n"
   ]
  },
  {
   "cell_type": "code",
   "execution_count": 33,
   "metadata": {
    "editable": true
   },
   "outputs": [
    {
     "data": {
      "text/plain": [
       "0   2018-11-17 00:02:24.796\n",
       "1   2018-11-17 00:06:40.796\n",
       "2   2018-11-17 00:10:51.796\n",
       "3   2018-11-17 00:14:35.796\n",
       "4   2018-11-17 00:17:39.796\n",
       "Name: ts, dtype: datetime64[ns]"
      ]
     },
     "execution_count": 33,
     "metadata": {},
     "output_type": "execute_result"
    }
   ],
   "source": [
    "t = df_filtered_records.ts\n",
    "t.head()"
   ]
  },
  {
   "cell_type": "code",
   "execution_count": 34,
   "metadata": {
    "editable": true
   },
   "outputs": [],
   "source": [
    "timestamp1=pd.to_datetime(df_filtered_records['ts'],unit='ms',errors='coerce')\n",
    "timestamp= timestamp1.to_frame()\n",
    "\n",
    "month1=pd.to_datetime(df_filtered_records['ts'],unit='ms',errors='coerce').dt.month\n",
    "month= month1.to_frame()\n",
    "\n",
    "year1=pd.to_datetime(df_filtered_records['ts'],unit='ms',errors='coerce').dt.year\n",
    "year= year1.to_frame()\n",
    "\n",
    "hour1=pd.to_datetime(df_filtered_records['ts'],unit='ms',errors='coerce').dt.hour\n",
    "hour= hour1.to_frame()\n",
    "\n",
    "day1=pd.to_datetime(df_filtered_records['ts'],unit='ms',errors='coerce').dt.day\n",
    "day= day1.to_frame()\n",
    "\n",
    "weekday1=pd.to_datetime(df_filtered_records['ts'],unit='ms',errors='coerce').dt.weekday_name\n",
    "weekday= weekday1.to_frame()\n",
    "\n",
    "dayofweek1=pd.to_datetime(df_filtered_records['ts'],unit='ms',errors='coerce').dt.dayofweek\n",
    "dayofweek= dayofweek1.to_frame()\n",
    "\n",
    "week1=pd.to_datetime(df_filtered_records['ts'],unit='ms',errors='coerce').dt.week\n",
    "week= week1.to_frame()"
   ]
  },
  {
   "cell_type": "code",
   "execution_count": 35,
   "metadata": {
    "editable": true
   },
   "outputs": [
    {
     "data": {
      "text/html": [
       "<div>\n",
       "<style scoped>\n",
       "    .dataframe tbody tr th:only-of-type {\n",
       "        vertical-align: middle;\n",
       "    }\n",
       "\n",
       "    .dataframe tbody tr th {\n",
       "        vertical-align: top;\n",
       "    }\n",
       "\n",
       "    .dataframe thead th {\n",
       "        text-align: right;\n",
       "    }\n",
       "</style>\n",
       "<table border=\"1\" class=\"dataframe\">\n",
       "  <thead>\n",
       "    <tr style=\"text-align: right;\">\n",
       "      <th></th>\n",
       "      <th>starttime</th>\n",
       "      <th>hour</th>\n",
       "      <th>day</th>\n",
       "      <th>week</th>\n",
       "      <th>month</th>\n",
       "      <th>year</th>\n",
       "      <th>weekday</th>\n",
       "    </tr>\n",
       "  </thead>\n",
       "  <tbody>\n",
       "    <tr>\n",
       "      <th>0</th>\n",
       "      <td>2018-11-17 00:02:24.796</td>\n",
       "      <td>0</td>\n",
       "      <td>17</td>\n",
       "      <td>46</td>\n",
       "      <td>11</td>\n",
       "      <td>2018</td>\n",
       "      <td>5</td>\n",
       "    </tr>\n",
       "    <tr>\n",
       "      <th>1</th>\n",
       "      <td>2018-11-17 00:06:40.796</td>\n",
       "      <td>0</td>\n",
       "      <td>17</td>\n",
       "      <td>46</td>\n",
       "      <td>11</td>\n",
       "      <td>2018</td>\n",
       "      <td>5</td>\n",
       "    </tr>\n",
       "    <tr>\n",
       "      <th>2</th>\n",
       "      <td>2018-11-17 00:10:51.796</td>\n",
       "      <td>0</td>\n",
       "      <td>17</td>\n",
       "      <td>46</td>\n",
       "      <td>11</td>\n",
       "      <td>2018</td>\n",
       "      <td>5</td>\n",
       "    </tr>\n",
       "    <tr>\n",
       "      <th>3</th>\n",
       "      <td>2018-11-17 00:14:35.796</td>\n",
       "      <td>0</td>\n",
       "      <td>17</td>\n",
       "      <td>46</td>\n",
       "      <td>11</td>\n",
       "      <td>2018</td>\n",
       "      <td>5</td>\n",
       "    </tr>\n",
       "    <tr>\n",
       "      <th>4</th>\n",
       "      <td>2018-11-17 00:17:39.796</td>\n",
       "      <td>0</td>\n",
       "      <td>17</td>\n",
       "      <td>46</td>\n",
       "      <td>11</td>\n",
       "      <td>2018</td>\n",
       "      <td>5</td>\n",
       "    </tr>\n",
       "  </tbody>\n",
       "</table>\n",
       "</div>"
      ],
      "text/plain": [
       "                starttime  hour  day  week  month  year  weekday\n",
       "0 2018-11-17 00:02:24.796     0   17    46     11  2018        5\n",
       "1 2018-11-17 00:06:40.796     0   17    46     11  2018        5\n",
       "2 2018-11-17 00:10:51.796     0   17    46     11  2018        5\n",
       "3 2018-11-17 00:14:35.796     0   17    46     11  2018        5\n",
       "4 2018-11-17 00:17:39.796     0   17    46     11  2018        5"
      ]
     },
     "execution_count": 35,
     "metadata": {},
     "output_type": "execute_result"
    }
   ],
   "source": [
    "time_df=pd.DataFrame(columns=['timestamp','hour','day','week','month,''year','weekday'])\n",
    "time_df= pd.concat([timestamp1,hour1,day1,week1,month1,year1,dayofweek1],axis=1)\n",
    "time_df.columns=['starttime','hour','day','week','month','year','weekday']\n",
    "time_df.head()\n",
    "\n"
   ]
  },
  {
   "cell_type": "markdown",
   "metadata": {
    "editable": true
   },
   "source": [
    "#### Insert Records into Time Table\n",
    "Implement the `time_table_insert` query in `sql_queries.py` and run the cell below to insert records for the timestamps in this log file into the `time` table. Remember to run `create_tables.py` before running the cell below to ensure you've created/resetted the `time` table in the sparkify database."
   ]
  },
  {
   "cell_type": "code",
   "execution_count": 36,
   "metadata": {
    "editable": true
   },
   "outputs": [],
   "source": [
    "for i, row in time_df.iterrows():\n",
    "    cur.execute(time_table_insert, list(row))\n",
    "    conn.commit()"
   ]
  },
  {
   "cell_type": "markdown",
   "metadata": {
    "editable": true
   },
   "source": [
    "Run `test.ipynb` to see if you've successfully added records to this table."
   ]
  },
  {
   "cell_type": "markdown",
   "metadata": {
    "editable": true
   },
   "source": [
    "## #4: `users` Table\n",
    "#### Extract Data for Users Table\n",
    "- Select columns for user ID, first name, last name, gender and level and set to `user_df`"
   ]
  },
  {
   "cell_type": "code",
   "execution_count": 37,
   "metadata": {
    "editable": true
   },
   "outputs": [
    {
     "name": "stdout",
     "output_type": "stream",
     "text": [
      "    userId firstName   lastName gender level\n",
      "0       49     Chloe     Cuevas      F  paid\n",
      "1       49     Chloe     Cuevas      F  paid\n",
      "2       49     Chloe     Cuevas      F  paid\n",
      "3       49     Chloe     Cuevas      F  paid\n",
      "4       49     Chloe     Cuevas      F  paid\n",
      "5       49     Chloe     Cuevas      F  paid\n",
      "6       49     Chloe     Cuevas      F  paid\n",
      "7       88  Mohammad  Rodriguez      M  free\n",
      "8       49     Chloe     Cuevas      F  paid\n",
      "9       49     Chloe     Cuevas      F  paid\n",
      "10      49     Chloe     Cuevas      F  paid\n",
      "11      49     Chloe     Cuevas      F  paid\n",
      "12      49     Chloe     Cuevas      F  paid\n",
      "13      49     Chloe     Cuevas      F  paid\n",
      "14      49     Chloe     Cuevas      F  paid\n",
      "15      49     Chloe     Cuevas      F  paid\n",
      "16      49     Chloe     Cuevas      F  paid\n",
      "17      49     Chloe     Cuevas      F  paid\n",
      "18      49     Chloe     Cuevas      F  paid\n",
      "19      49     Chloe     Cuevas      F  paid\n",
      "20      49     Chloe     Cuevas      F  paid\n",
      "21      49     Chloe     Cuevas      F  paid\n",
      "22      49     Chloe     Cuevas      F  paid\n",
      "23      10    Sylvie       Cruz      F  free\n",
      "24      54     Kaleb       Cook      M  free\n",
      "25      54     Kaleb       Cook      M  free\n",
      "26      54     Kaleb       Cook      M  free\n",
      "27      54     Kaleb       Cook      M  free\n",
      "28      54     Kaleb       Cook      M  free\n",
      "29      54     Kaleb       Cook      M  free\n",
      "..     ...       ...        ...    ...   ...\n",
      "116     50       Ava   Robinson      F  free\n",
      "117     50       Ava   Robinson      F  free\n",
      "118             None       None   None  free\n",
      "119             None       None   None  free\n",
      "120     50       Ava   Robinson      F  free\n",
      "121     70    Jaleah      Hayes      F  paid\n",
      "122     70    Jaleah      Hayes      F  paid\n",
      "123     70    Jaleah      Hayes      F  paid\n",
      "124     70    Jaleah      Hayes      F  paid\n",
      "125     70    Jaleah      Hayes      F  paid\n",
      "126     70    Jaleah      Hayes      F  paid\n",
      "127     70    Jaleah      Hayes      F  paid\n",
      "128     70    Jaleah      Hayes      F  paid\n",
      "129     70    Jaleah      Hayes      F  paid\n",
      "130     70    Jaleah      Hayes      F  paid\n",
      "131     70    Jaleah      Hayes      F  paid\n",
      "132     70    Jaleah      Hayes      F  paid\n",
      "133     70    Jaleah      Hayes      F  paid\n",
      "134     70    Jaleah      Hayes      F  paid\n",
      "135     49     Chloe     Cuevas      F  paid\n",
      "136     70    Jaleah      Hayes      F  paid\n",
      "137     49     Chloe     Cuevas      F  paid\n",
      "138     49     Chloe     Cuevas      F  paid\n",
      "139     70    Jaleah      Hayes      F  paid\n",
      "140     49     Chloe     Cuevas      F  paid\n",
      "141     70    Jaleah      Hayes      F  paid\n",
      "142     49     Chloe     Cuevas      F  paid\n",
      "143     70    Jaleah      Hayes      F  paid\n",
      "144     49     Chloe     Cuevas      F  paid\n",
      "145     70    Jaleah      Hayes      F  paid\n",
      "\n",
      "[146 rows x 5 columns]\n"
     ]
    }
   ],
   "source": [
    "user_df = df_filtered_records[['userId','firstName','lastName','gender','level']]\n",
    "print(user_df)"
   ]
  },
  {
   "cell_type": "markdown",
   "metadata": {
    "editable": true
   },
   "source": [
    "#### Insert Records into Users Table\n",
    "Implement the `user_table_insert` query in `sql_queries.py` and run the cell below to insert records for the users in this log file into the `users` table. Remember to run `create_tables.py` before running the cell below to ensure you've created/resetted the `users` table in the sparkify database."
   ]
  },
  {
   "cell_type": "code",
   "execution_count": 38,
   "metadata": {
    "editable": true
   },
   "outputs": [],
   "source": [
    "for i, row in user_df.iterrows():\n",
    "    cur.execute(user_table_insert, row)\n",
    "    conn.commit()"
   ]
  },
  {
   "cell_type": "markdown",
   "metadata": {
    "editable": true
   },
   "source": [
    "Run `test.ipynb` to see if you've successfully added records to this table."
   ]
  },
  {
   "cell_type": "markdown",
   "metadata": {
    "editable": true
   },
   "source": [
    "## #5: `songplays` Table\n",
    "#### Extract Data and S ongplays Table\n",
    "This one is a little more complicated since information from the songs table, artists table, and original log file are all needed for the `songplays` table. Since the log file does not specify an ID for either the song or the artist, you'll need to get the song ID and artist ID by querying the songs and artists tables to find matches based on song title, artist name, and song duration time.\n",
    "- Implement the `song_select` query in `sql_queries.py` to find the song ID and artist ID based on the title, artist name, and duration of a song.\n",
    "- Select the timestamp, user ID, level, song ID, artist ID, session ID, location, and user agent and set to `songplay_data`\n",
    "\n",
    "#### Insert Records into Songplays Table\n",
    "- Implement the `songplay_table_insert` query and run the cell below to insert records for the songplay actions in this log file into the `songplays` table. Remember to run `create_tables.py` before running the cell below to ensure you've created/resetted the `songplays` table in the sparkify database."
   ]
  },
  {
   "cell_type": "code",
   "execution_count": 40,
   "metadata": {
    "editable": true
   },
   "outputs": [
    {
     "name": "stdout",
     "output_type": "stream",
     "text": [
      "None\n"
     ]
    },
    {
     "ename": "IndexError",
     "evalue": "tuple index out of range",
     "output_type": "error",
     "traceback": [
      "\u001b[0;31m---------------------------------------------------------------------------\u001b[0m",
      "\u001b[0;31mIndexError\u001b[0m                                Traceback (most recent call last)",
      "\u001b[0;32m<ipython-input-40-055d0b22776b>\u001b[0m in \u001b[0;36m<module>\u001b[0;34m()\u001b[0m\n\u001b[1;32m     14\u001b[0m     \u001b[0;31m# insert songplay record\u001b[0m\u001b[0;34m\u001b[0m\u001b[0;34m\u001b[0m\u001b[0m\n\u001b[1;32m     15\u001b[0m     \u001b[0msongplay_data\u001b[0m \u001b[0;34m=\u001b[0m \u001b[0;34m(\u001b[0m\u001b[0mrow\u001b[0m\u001b[0;34m.\u001b[0m\u001b[0mts\u001b[0m\u001b[0;34m,\u001b[0m\u001b[0mrow\u001b[0m\u001b[0;34m.\u001b[0m\u001b[0muserId\u001b[0m\u001b[0;34m,\u001b[0m\u001b[0mrow\u001b[0m\u001b[0;34m.\u001b[0m\u001b[0mlevel\u001b[0m\u001b[0;34m,\u001b[0m\u001b[0msongid\u001b[0m\u001b[0;34m,\u001b[0m\u001b[0martistid\u001b[0m\u001b[0;34m,\u001b[0m\u001b[0mrow\u001b[0m\u001b[0;34m.\u001b[0m\u001b[0msessionId\u001b[0m\u001b[0;34m,\u001b[0m\u001b[0mrow\u001b[0m\u001b[0;34m.\u001b[0m\u001b[0mlocation\u001b[0m\u001b[0;34m,\u001b[0m\u001b[0mrow\u001b[0m\u001b[0;34m.\u001b[0m\u001b[0muserAgent\u001b[0m\u001b[0;34m)\u001b[0m\u001b[0;34m\u001b[0m\u001b[0m\n\u001b[0;32m---> 16\u001b[0;31m     \u001b[0mcur\u001b[0m\u001b[0;34m.\u001b[0m\u001b[0mexecute\u001b[0m\u001b[0;34m(\u001b[0m\u001b[0msongplay_table_insert\u001b[0m\u001b[0;34m,\u001b[0m \u001b[0msongplay_data\u001b[0m\u001b[0;34m)\u001b[0m\u001b[0;34m\u001b[0m\u001b[0m\n\u001b[0m\u001b[1;32m     17\u001b[0m     \u001b[0mconn\u001b[0m\u001b[0;34m.\u001b[0m\u001b[0mcommit\u001b[0m\u001b[0;34m(\u001b[0m\u001b[0;34m)\u001b[0m\u001b[0;34m\u001b[0m\u001b[0m\n",
      "\u001b[0;31mIndexError\u001b[0m: tuple index out of range"
     ]
    }
   ],
   "source": [
    "for index, row in df_filtered_records.iterrows():\n",
    "\n",
    "    # get songid and artistid from song and artist tables\n",
    "\n",
    "    cur.execute(song_select, (row.song, row.artist,row.length))\n",
    "    results = cur.fetchone()\n",
    "    \n",
    "    if results:\n",
    "        songid, artistid = results\n",
    "    else:\n",
    "        songid, artistid = None, None\n",
    "        \n",
    "    print(results)\n",
    "    # insert songplay record\n",
    "    songplay_data = (row.ts,row.userId,row.level,songid,artistid,row.sessionId,row.location,row.userAgent)\n",
    "    cur.execute(songplay_table_insert, songplay_data)\n",
    "    conn.commit()"
   ]
  },
  {
   "cell_type": "markdown",
   "metadata": {
    "editable": true
   },
   "source": [
    "Run `test.ipynb` to see if you've successfully added records to this table."
   ]
  },
  {
   "cell_type": "markdown",
   "metadata": {
    "editable": true
   },
   "source": [
    "# Close Connection to Sparkify Database"
   ]
  },
  {
   "cell_type": "code",
   "execution_count": 24,
   "metadata": {
    "editable": true
   },
   "outputs": [],
   "source": [
    "conn.close()"
   ]
  },
  {
   "cell_type": "markdown",
   "metadata": {
    "editable": true
   },
   "source": [
    "# Implement `etl.py`\n",
    "Use what you've completed in this notebook to implement `etl.py`."
   ]
  },
  {
   "cell_type": "code",
   "execution_count": null,
   "metadata": {
    "editable": true
   },
   "outputs": [],
   "source": []
  }
 ],
 "metadata": {
  "kernelspec": {
   "display_name": "Python 3",
   "language": "python",
   "name": "python3"
  },
  "language_info": {
   "codemirror_mode": {
    "name": "ipython",
    "version": 3
   },
   "file_extension": ".py",
   "mimetype": "text/x-python",
   "name": "python",
   "nbconvert_exporter": "python",
   "pygments_lexer": "ipython3",
   "version": "3.6.3"
  }
 },
 "nbformat": 4,
 "nbformat_minor": 4
}
